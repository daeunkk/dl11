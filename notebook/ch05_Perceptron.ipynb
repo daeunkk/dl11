{
  "nbformat": 4,
  "nbformat_minor": 0,
  "metadata": {
    "colab": {
      "provenance": [],
      "authorship_tag": "ABX9TyN2fijYve6BDQiCV3AUXnAK",
      "include_colab_link": true
    },
    "kernelspec": {
      "name": "python3",
      "display_name": "Python 3"
    },
    "language_info": {
      "name": "python"
    }
  },
  "cells": [
    {
      "cell_type": "markdown",
      "metadata": {
        "id": "view-in-github",
        "colab_type": "text"
      },
      "source": [
        "<a href=\"https://colab.research.google.com/github/daeunkk/dl11/blob/main/notebook/ch05_Perceptron.ipynb\" target=\"_parent\"><img src=\"https://colab.research.google.com/assets/colab-badge.svg\" alt=\"Open In Colab\"/></a>"
      ]
    },
    {
      "cell_type": "markdown",
      "source": [
        "##ch05.Perceptron"
      ],
      "metadata": {
        "id": "6snxFIcFJTdS"
      }
    },
    {
      "cell_type": "markdown",
      "source": [
        "##파이썬 코드로 구현\n",
        "-AND 연산"
      ],
      "metadata": {
        "id": "Ca5hg0MdJYg6"
      }
    },
    {
      "cell_type": "code",
      "execution_count": 1,
      "metadata": {
        "colab": {
          "base_uri": "https://localhost:8080/"
        },
        "id": "jPwiAJtnJNY8",
        "outputId": "d5427509-4b71-4739-dd97-6a23ab86779d"
      },
      "outputs": [
        {
          "output_type": "stream",
          "name": "stdout",
          "text": [
            "0\n",
            "0\n",
            "0\n",
            "1\n"
          ]
        }
      ],
      "source": [
        "epsilon = 0.0000001\n",
        "\n",
        "def perceptron(x1, x2):\n",
        "    w1, w2, b = 1.0, 1.0, -1.5\n",
        "    sum = x1*w1+x2*w2+b\n",
        "    if sum > epsilon :\t\t# 부동소수점 오차를 방지하기 위하여\n",
        "        return 1\n",
        "    else :\n",
        "        return 0\n",
        "    \n",
        "print(perceptron(0, 0))\n",
        "print(perceptron(1, 0))\n",
        "print(perceptron(0, 1))\n",
        "print(perceptron(1, 1))"
      ]
    },
    {
      "cell_type": "code",
      "source": [
        "# Model\n",
        "from sklearn.linear_model import Perceptron\n",
        "X = [[160, 55],[165, 48],[163, 43],[170, 80], [175,76], [180,70]] # 항상 2차원 배열이어야 한다. \n",
        "y = [0, 0, 0, 1, 1, 1]\n",
        "# 퍼셉트론을 생성한다. tol는 종료 조건이다. random_state는 난수의 시드이다.\n",
        "clf = Perceptron(tol=1e-3, random_state=0)\n",
        "# 학습을 수행한다. \n",
        "clf.fit(X, y)\n",
        "# 테스트를 수행한다. \n",
        "print(clf.predict(X))\n",
        "print(clf.coef_) # 가중치\n",
        "print(clf.intercept_) # 바이어스 값\n"
      ],
      "metadata": {
        "colab": {
          "base_uri": "https://localhost:8080/"
        },
        "id": "-EGKgOi_U7ib",
        "outputId": "31806f8f-4356-4c3c-fb1f-d9936ef03744"
      },
      "execution_count": 2,
      "outputs": [
        {
          "output_type": "stream",
          "name": "stdout",
          "text": [
            "[0 0 0 1 1 1]\n",
            "[[-59. 160.]]\n",
            "[-1.]\n"
          ]
        }
      ]
    },
    {
      "cell_type": "code",
      "source": [
        "# Plot data\n",
        "####################################\n",
        "X1=[x[0] for x in X]\n",
        "X2=[x[1] for x in X]\n",
        "import matplotlib.pyplot as plt\n",
        "plt.scatter(X1,X2,c=y)\n",
        "plt.show()"
      ],
      "metadata": {
        "colab": {
          "base_uri": "https://localhost:8080/",
          "height": 430
        },
        "id": "OOsQ3hJIVA_C",
        "outputId": "b64a3094-48ce-4e1a-a91b-c98bf9d87cb1"
      },
      "execution_count": 3,
      "outputs": [
        {
          "output_type": "display_data",
          "data": {
            "text/plain": [
              "<Figure size 640x480 with 1 Axes>"
            ],
            "image/png": "[encoded data removed]"
          },
          "metadata": {}
        }
      ]
    },
    {
      "cell_type": "code",
      "source": [
        "# Check result\n",
        "import numpy as np\n",
        "Y1=np.array(X)@(np.array(clf.coef_).T)+clf.intercept_\n",
        "epsilon = 0.0000001\n",
        "def step_func(t): # 퍼셉트론의 활성화 함수\n",
        "  if t > epsilon: return 1\n",
        "  else: return 0\n",
        "for i in range(len(Y1)): # 결과 확인\n",
        "  print(step_func(Y1[i]))\n"
      ],
      "metadata": {
        "colab": {
          "base_uri": "https://localhost:8080/"
        },
        "id": "nEI-7JltVGcC",
        "outputId": "699e4044-bfa4-497a-8bf6-3c8fc265a58e"
      },
      "execution_count": 6,
      "outputs": [
        {
          "output_type": "stream",
          "name": "stdout",
          "text": [
            "0\n",
            "0\n",
            "0\n",
            "1\n",
            "1\n",
            "1\n"
          ]
        }
      ]
    },
    {
      "cell_type": "code",
      "source": [
        "# decision boundary\n",
        "import matplotlib.pyplot as plt\n",
        "from matplotlib import \n",
        "X1=[x[0] for x in X]\n",
        "X2=[x[1] for x in X]\n",
        "plt.scatter(X1,X2,c=y)\n",
        "# 데이터에서 최소 좌표와 최대 좌표를 계산한다. \n",
        "x_min, x_max = np.array(X1).min() - 1, np.array(X1).max() + 1\n",
        "y_min, y_max = np.array(X2).min() - 1, np.array(X2).max() + 1\n",
        "# 0.1 간격으로 메쉬 그리드 좌표를 만든다. \n",
        "xx, yy = np.meshgrid(np.arange(x_min, x_max, 0.1), np.arange(y_min, y_max, 0.1))\n",
        "# xx.shape,yy.shape # (390, 220)\n",
        "# xx.ravel().shape # 390*220 = 85800\n",
        "# 메쉬 그리드 데이터에 대하여 예측을 한다. \n",
        "Z = clf.predict(np.c_[xx.ravel(), yy.ravel()]).reshape(xx.shape)\n",
        "\n",
        "# 컨투어를 그린다. \n",
        "plt.contourf(xx, yy, Z, alpha=0.3, cmap=cm.jet)\n",
        "plt.show()\n"
      ],
      "metadata": {
        "colab": {
          "base_uri": "https://localhost:8080/",
          "height": 135
        },
        "id": "bhCZDfU7VQ5Y",
        "outputId": "8ae64eac-84f0-4225-bd79-3dbb3caaee4c"
      },
      "execution_count": 11,
      "outputs": [
        {
          "output_type": "error",
          "ename": "SyntaxError",
          "evalue": "ignored",
          "traceback": [
            "\u001b[0;36m  File \u001b[0;32m\"<ipython-input-11-4a4ec415231f>\"\u001b[0;36m, line \u001b[0;32m3\u001b[0m\n\u001b[0;31m    from matplotlib import\u001b[0m\n\u001b[0m                           ^\u001b[0m\n\u001b[0;31mSyntaxError\u001b[0m\u001b[0;31m:\u001b[0m invalid syntax\n"
          ]
        }
      ]
    }
  ]
}