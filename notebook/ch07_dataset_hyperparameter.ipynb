{
  "nbformat": 4,
  "nbformat_minor": 0,
  "metadata": {
    "colab": {
      "provenance": [],
      "authorship_tag": "ABX9TyO/ha4gky+JWI7DMEzc/27o",
      "include_colab_link": true
    },
    "kernelspec": {
      "name": "python3",
      "display_name": "Python 3"
    },
    "language_info": {
      "name": "python"
    }
  },
  "cells": [
    {
      "cell_type": "markdown",
      "metadata": {
        "id": "view-in-github",
        "colab_type": "text"
      },
      "source": [
        "<a href=\"https://colab.research.google.com/github/daeunkk/dl11/blob/main/notebook/ch07_dataset_hyperparameter.ipynb\" target=\"_parent\"><img src=\"https://colab.research.google.com/assets/colab-badge.svg\" alt=\"Open In Colab\"/></a>"
      ]
    },
    {
      "cell_type": "markdown",
      "source": [
        "Datasets\n",
        "\n",
        "Hyperparameter selection"
      ],
      "metadata": {
        "id": "9-88cv10SaJA"
      }
    },
    {
      "cell_type": "code",
      "source": [
        "# datasets\n",
        "import numpy as np\n",
        "\n",
        "array = np.array([[[1, 2, 3], [4, 5, 6]], [[7, 8, 9], [10, 11, 12]], [[13, 14, 15], [16, 17, 18]]])\n",
        "array.shape, array.ndim, array.dtype\n"
      ],
      "metadata": {
        "colab": {
          "base_uri": "https://localhost:8080/"
        },
        "id": "0QDcsfthSemu",
        "outputId": "8c8ad2b1-3c57-4587-f0a9-3855a79636af"
      },
      "execution_count": 2,
      "outputs": [
        {
          "output_type": "execute_result",
          "data": {
            "text/plain": [
              "((3, 2, 3), 3, dtype('int64'))"
            ]
          },
          "metadata": {},
          "execution_count": 2
        }
      ]
    },
    {
      "cell_type": "code",
      "execution_count": 3,
      "metadata": {
        "colab": {
          "base_uri": "https://localhost:8080/"
        },
        "id": "IVaNUQLsGLpe",
        "outputId": "8616763c-544f-4b2a-eda0-135387437ec4"
      },
      "outputs": [
        {
          "output_type": "execute_result",
          "data": {
            "text/plain": [
              "(3, 4, 5, 6)"
            ]
          },
          "metadata": {},
          "execution_count": 3
        }
      ],
      "source": [
        "arr1 = np.empty((3, 4, 5, 6)) # zeros(), ones()\n",
        "arr1.shape"
      ]
    },
    {
      "cell_type": "code",
      "source": [
        "# vector records\n",
        "arr2 = np.random.randn(500,8) # \n",
        "arr2.shape\n"
      ],
      "metadata": {
        "colab": {
          "base_uri": "https://localhost:8080/"
        },
        "id": "g_fh5ysESouQ",
        "outputId": "61f81da8-9d58-4cb6-ad7a-08c13036d948"
      },
      "execution_count": 4,
      "outputs": [
        {
          "output_type": "execute_result",
          "data": {
            "text/plain": [
              "(500, 8)"
            ]
          },
          "metadata": {},
          "execution_count": 4
        }
      ]
    },
    {
      "cell_type": "code",
      "source": [
        "# color images\n",
        "arr3 = np.empty((60000,28,28,3)) #\n",
        "arr3.shape"
      ],
      "metadata": {
        "colab": {
          "base_uri": "https://localhost:8080/"
        },
        "id": "4t5r6yxJSor3",
        "outputId": "15137195-9ef7-4ffc-fa31-1e597c511d16"
      },
      "execution_count": 5,
      "outputs": [
        {
          "output_type": "execute_result",
          "data": {
            "text/plain": [
              "(60000, 28, 28, 3)"
            ]
          },
          "metadata": {},
          "execution_count": 5
        }
      ]
    },
    {
      "cell_type": "code",
      "source": [
        "# time series\n",
        "arr4 = np.random.randn(20,365,4) # \n",
        "arr4.shape\n"
      ],
      "metadata": {
        "colab": {
          "base_uri": "https://localhost:8080/"
        },
        "id": "zXwH2FGOSopP",
        "outputId": "bbb4d36b-3f00-4f26-9e09-28e720138ff2"
      },
      "execution_count": 6,
      "outputs": [
        {
          "output_type": "execute_result",
          "data": {
            "text/plain": [
              "(20, 365, 4)"
            ]
          },
          "metadata": {},
          "execution_count": 6
        }
      ]
    },
    {
      "cell_type": "markdown",
      "source": [
        "## Hyperparameter search\n",
        "\n",
        "\n",
        "*  epochs\n",
        "*   batch-size\n"
      ],
      "metadata": {
        "id": "EUlcD5fRPD2z"
      }
    },
    {
      "cell_type": "code",
      "source": [
        " !pip install scikeras"
      ],
      "metadata": {
        "colab": {
          "base_uri": "https://localhost:8080/"
        },
        "id": "Z696gNE2PPSr",
        "outputId": "94f8f195-dc62-4467-bfbf-c1236aa5cc73"
      },
      "execution_count": 7,
      "outputs": [
        {
          "output_type": "stream",
          "name": "stdout",
          "text": [
            "Looking in indexes: https://pypi.org/simple, https://us-python.pkg.dev/colab-wheels/public/simple/\n",
            "Collecting scikeras\n",
            "  Downloading scikeras-0.10.0-py3-none-any.whl (27 kB)\n",
            "Requirement already satisfied: scikit-learn>=1.0.0 in /usr/local/lib/python3.10/dist-packages (from scikeras) (1.2.2)\n",
            "Requirement already satisfied: packaging>=0.21 in /usr/local/lib/python3.10/dist-packages (from scikeras) (23.1)\n",
            "Requirement already satisfied: joblib>=1.1.1 in /usr/local/lib/python3.10/dist-packages (from scikit-learn>=1.0.0->scikeras) (1.2.0)\n",
            "Requirement already satisfied: scipy>=1.3.2 in /usr/local/lib/python3.10/dist-packages (from scikit-learn>=1.0.0->scikeras) (1.10.1)\n",
            "Requirement already satisfied: threadpoolctl>=2.0.0 in /usr/local/lib/python3.10/dist-packages (from scikit-learn>=1.0.0->scikeras) (3.1.0)\n",
            "Requirement already satisfied: numpy>=1.17.3 in /usr/local/lib/python3.10/dist-packages (from scikit-learn>=1.0.0->scikeras) (1.22.4)\n",
            "Installing collected packages: scikeras\n",
            "Successfully installed scikeras-0.10.0\n"
          ]
        }
      ]
    },
    {
      "cell_type": "code",
      "source": [
        "# import numpy as np \n",
        "# import matplotlib.pyplot as plt \n",
        "import tensorflow as tf\n",
        "from sklearn.model_selection import GridSearchCV\n",
        "# from tensorflow.keras.wrappers.scikit_learn import KerasClassifier\n",
        "from scikeras.wrappers import KerasClassifier\n",
        "\n",
        "# 데이터 세트 준비\n",
        "(train_images, train_labels), (test_images, test_labels) = tf.keras.datasets.mnist.load_data()\n",
        "\n",
        "train_images = train_images.reshape((60000, 28 * 28))\n",
        "train_images = train_images.astype('float32') / 255\n",
        "\n",
        "test_images = test_images.reshape((10000, 28 * 28))\n",
        "test_images = test_images.astype('float32') / 255\n",
        "\n",
        "train_labels = tf.keras.utils.to_categorical(train_labels)\n",
        "test_labels = tf.keras.utils.to_categorical(test_labels)\n",
        "                             \n",
        "# 신경망 모델 구축\n",
        "def build_model():\n",
        "    network = tf.keras.models.Sequential()\n",
        "    network.add(tf.keras.layers.Dense(512, activation='relu', input_shape=(28 * 28,)))\n",
        "    network.add(tf.keras.layers.Dense(10, activation='sigmoid'))\n",
        "\n",
        "    network.compile(optimizer='rmsprop',\n",
        "                loss='categorical_crossentropy',\n",
        "                metrics=['accuracy'])\n",
        "    return network\n",
        "\n",
        "# 하이퍼 매개변수 딕셔너리\n",
        "param_grid = {\n",
        "              'epochs':[1, 2, 3],\t# 에포크 수: 1, 2, 3\n",
        "              'batch_size':[32, 64]\t# 배치 크기: 32, 64\n",
        "             }\n",
        "\n",
        "# 케라스 모델을 scikeras에서 사용하도록 포장한다. \n",
        "model = KerasClassifier(model = build_model, verbose=1)\n",
        "\n",
        "## Elapsed time start\n",
        "import time\n",
        "start = time.time()\n",
        "\n",
        "# 그리드 검색\n",
        "gs = GridSearchCV(\n",
        "    estimator=model,\n",
        "    param_grid=param_grid, \n",
        "    cv=3, \n",
        "    # n_jobs=-1 # comment this line to avoid out-of-memory\n",
        ")\n",
        "\n",
        "# 그리드 검색 결과 출력\n",
        "grid_result = gs.fit(train_images, train_labels)\n",
        "\n",
        "## Elapsed time end\n",
        "end = time.time()\n",
        "print('Elapsed time:', end - start) # Elapsed time: 122.5, 189.5\n",
        "\n",
        "print(grid_result.best_score_) # 0.9725, 0.9711\n",
        "print(grid_result.best_params_) # {'batch_size': 64, 'epochs': 3}"
      ],
      "metadata": {
        "colab": {
          "base_uri": "https://localhost:8080/"
        },
        "id": "M_A5cYWcPHJr",
        "outputId": "70ff30aa-ba59-42d7-f21d-5622f55c95e5"
      },
      "execution_count": 8,
      "outputs": [
        {
          "output_type": "stream",
          "name": "stdout",
          "text": [
            "Downloading data from https://storage.googleapis.com/tensorflow/tf-keras-datasets/mnist.npz\n",
            "11490434/11490434 [==============================] - 0s 0us/step\n",
            "1250/1250 [==============================] - 15s 11ms/step - loss: 0.2378 - accuracy: 0.9290\n",
            "625/625 [==============================] - 4s 7ms/step\n",
            "1250/1250 [==============================] - 12s 9ms/step - loss: 0.2374 - accuracy: 0.9302\n",
            "625/625 [==============================] - 2s 2ms/step\n",
            "1250/1250 [==============================] - 10s 8ms/step - loss: 0.2417 - accuracy: 0.9284\n",
            "625/625 [==============================] - 1s 2ms/step\n",
            "Epoch 1/2\n",
            "1250/1250 [==============================] - 9s 7ms/step - loss: 0.2416 - accuracy: 0.9287\n",
            "Epoch 2/2\n",
            "1250/1250 [==============================] - 9s 7ms/step - loss: 0.1028 - accuracy: 0.9702\n",
            "625/625 [==============================] - 2s 3ms/step\n",
            "Epoch 1/2\n",
            "1250/1250 [==============================] - 9s 7ms/step - loss: 0.2356 - accuracy: 0.9320\n",
            "Epoch 2/2\n",
            "1250/1250 [==============================] - 8s 6ms/step - loss: 0.0995 - accuracy: 0.9691\n",
            "625/625 [==============================] - 2s 2ms/step\n",
            "Epoch 1/2\n",
            "1250/1250 [==============================] - 10s 8ms/step - loss: 0.2380 - accuracy: 0.9299\n",
            "Epoch 2/2\n",
            "1250/1250 [==============================] - 10s 8ms/step - loss: 0.0994 - accuracy: 0.9707\n",
            "625/625 [==============================] - 1s 2ms/step\n",
            "Epoch 1/3\n",
            "1250/1250 [==============================] - 10s 8ms/step - loss: 0.2420 - accuracy: 0.9273\n",
            "Epoch 2/3\n",
            "1250/1250 [==============================] - 9s 8ms/step - loss: 0.1011 - accuracy: 0.9694\n",
            "Epoch 3/3\n",
            "1250/1250 [==============================] - 8s 6ms/step - loss: 0.0678 - accuracy: 0.9792\n",
            "625/625 [==============================] - 1s 2ms/step\n",
            "Epoch 1/3\n",
            "1250/1250 [==============================] - 10s 7ms/step - loss: 0.2385 - accuracy: 0.9309\n",
            "Epoch 2/3\n",
            "1250/1250 [==============================] - 9s 7ms/step - loss: 0.0992 - accuracy: 0.9690\n",
            "Epoch 3/3\n",
            "1250/1250 [==============================] - 9s 7ms/step - loss: 0.0649 - accuracy: 0.9804\n",
            "625/625 [==============================] - 2s 3ms/step\n",
            "Epoch 1/3\n",
            "1250/1250 [==============================] - 10s 7ms/step - loss: 0.2421 - accuracy: 0.9289\n",
            "Epoch 2/3\n",
            "1250/1250 [==============================] - 8s 7ms/step - loss: 0.0992 - accuracy: 0.9711\n",
            "Epoch 3/3\n",
            "1250/1250 [==============================] - 10s 8ms/step - loss: 0.0657 - accuracy: 0.9809\n",
            "625/625 [==============================] - 2s 3ms/step\n",
            "625/625 [==============================] - 7s 10ms/step - loss: 0.2680 - accuracy: 0.9218\n",
            "313/313 [==============================] - 1s 4ms/step\n",
            "625/625 [==============================] - 8s 11ms/step - loss: 0.2684 - accuracy: 0.9222\n",
            "313/313 [==============================] - 1s 3ms/step\n",
            "625/625 [==============================] - 5s 8ms/step - loss: 0.2683 - accuracy: 0.9218\n",
            "313/313 [==============================] - 1s 4ms/step\n",
            "Epoch 1/2\n",
            "625/625 [==============================] - 5s 7ms/step - loss: 0.2734 - accuracy: 0.9196\n",
            "Epoch 2/2\n",
            "625/625 [==============================] - 5s 8ms/step - loss: 0.1127 - accuracy: 0.9661\n",
            "313/313 [==============================] - 2s 5ms/step\n",
            "Epoch 1/2\n",
            "625/625 [==============================] - 5s 7ms/step - loss: 0.2653 - accuracy: 0.9233\n",
            "Epoch 2/2\n",
            "625/625 [==============================] - 5s 8ms/step - loss: 0.1106 - accuracy: 0.9669\n",
            "313/313 [==============================] - 1s 4ms/step\n",
            "Epoch 1/2\n",
            "625/625 [==============================] - 5s 7ms/step - loss: 0.2675 - accuracy: 0.9226\n",
            "Epoch 2/2\n",
            "625/625 [==============================] - 5s 7ms/step - loss: 0.1092 - accuracy: 0.9681\n",
            "313/313 [==============================] - 2s 5ms/step\n",
            "Epoch 1/3\n",
            "625/625 [==============================] - 5s 8ms/step - loss: 0.2710 - accuracy: 0.9205\n",
            "Epoch 2/3\n",
            "625/625 [==============================] - 5s 9ms/step - loss: 0.1132 - accuracy: 0.9671\n",
            "Epoch 3/3\n",
            "625/625 [==============================] - 5s 9ms/step - loss: 0.0729 - accuracy: 0.9778\n",
            "313/313 [==============================] - 1s 3ms/step\n",
            "Epoch 1/3\n",
            "625/625 [==============================] - 6s 9ms/step - loss: 0.2684 - accuracy: 0.9217\n",
            "Epoch 2/3\n",
            "625/625 [==============================] - 5s 8ms/step - loss: 0.1117 - accuracy: 0.9672\n",
            "Epoch 3/3\n",
            "625/625 [==============================] - 6s 9ms/step - loss: 0.0732 - accuracy: 0.9773\n",
            "313/313 [==============================] - 1s 3ms/step\n",
            "Epoch 1/3\n",
            "625/625 [==============================] - 6s 9ms/step - loss: 0.2689 - accuracy: 0.9217\n",
            "Epoch 2/3\n",
            "625/625 [==============================] - 5s 7ms/step - loss: 0.1080 - accuracy: 0.9682\n",
            "Epoch 3/3\n",
            "625/625 [==============================] - 5s 8ms/step - loss: 0.0701 - accuracy: 0.9789\n",
            "313/313 [==============================] - 2s 5ms/step\n",
            "Epoch 1/3\n",
            "1875/1875 [==============================] - 14s 7ms/step - loss: 0.2016 - accuracy: 0.9409\n",
            "Epoch 2/3\n",
            "1875/1875 [==============================] - 13s 7ms/step - loss: 0.0841 - accuracy: 0.9752\n",
            "Epoch 3/3\n",
            "1875/1875 [==============================] - 13s 7ms/step - loss: 0.0597 - accuracy: 0.9823\n",
            "Elapsed time: 409.18813395500183\n",
            "0.97145\n",
            "{'batch_size': 32, 'epochs': 3}\n"
          ]
        }
      ]
    }
  ]
}