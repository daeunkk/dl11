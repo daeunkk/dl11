{
  "nbformat": 4,
  "nbformat_minor": 0,
  "metadata": {
    "colab": {
      "provenance": [],
      "authorship_tag": "ABX9TyMsvxVz0iVtgKBXUlJo5Jul",
      "include_colab_link": true
    },
    "kernelspec": {
      "name": "python3",
      "display_name": "Python 3"
    },
    "language_info": {
      "name": "python"
    }
  },
  "cells": [
    {
      "cell_type": "markdown",
      "metadata": {
        "id": "view-in-github",
        "colab_type": "text"
      },
      "source": [
        "<a href=\"https://colab.research.google.com/github/daeunkk/dl11/blob/main/notebook/ch02_numpy.ipynb\" target=\"_parent\"><img src=\"https://colab.research.google.com/assets/colab-badge.svg\" alt=\"Open In Colab\"/></a>"
      ]
    },
    {
      "cell_type": "code",
      "execution_count": null,
      "metadata": {
        "id": "meAHhM0_JY27"
      },
      "outputs": [],
      "source": []
    },
    {
      "cell_type": "markdown",
      "source": [
        "ch02_numpy.ipynb\n",
        " numpy 공부\n",
        " "
      ],
      "metadata": {
        "id": "alOocuBFJbE9"
      }
    },
    {
      "cell_type": "code",
      "source": [
        "# chap02 - numpy\n",
        "import numpy as np\n"
      ],
      "metadata": {
        "id": "ncqG4aH4Jh7b"
      },
      "execution_count": null,
      "outputs": []
    },
    {
      "cell_type": "code",
      "source": [
        "import numpy as np\n",
        "\n",
        "  # ndarray\n",
        "a = np.array([1, 2, 3])\n",
        "\n",
        "print(a[0])\n",
        "\n"
      ],
      "metadata": {
        "colab": {
          "base_uri": "https://localhost:8080/"
        },
        "id": "YrCIqCStJsB_",
        "outputId": "f1d90788-9194-429c-97b5-435904efa814"
      },
      "execution_count": 8,
      "outputs": [
        {
          "output_type": "stream",
          "name": "stdout",
          "text": [
            "1\n"
          ]
        }
      ]
    },
    {
      "cell_type": "code",
      "source": [
        "\n",
        "\n",
        "b = np.array([[1, 2, 3], [4, 5, 6], [7, 8, 9]])\n",
        "\n",
        "b\n",
        "\n",
        "b[0][2]"
      ],
      "metadata": {
        "id": "9NKgV2cUJwmE"
      },
      "execution_count": null,
      "outputs": []
    },
    {
      "cell_type": "code",
      "source": [
        "\n",
        "\n",
        "a = np.array([[ 0, 1, 2],\n",
        " \t\t[ 3, 4, 5],\n",
        "\t\t[ 6, 7, 8]])\n",
        "\n",
        "a.shape,a.ndim,a.dtype,a.itemsize,a.size\n"
      ],
      "metadata": {
        "colab": {
          "base_uri": "https://localhost:8080/"
        },
        "id": "vRSH8KldKWlN",
        "outputId": "32ef75a7-aa30-4a53-b487-e54700868784"
      },
      "execution_count": 7,
      "outputs": [
        {
          "output_type": "execute_result",
          "data": {
            "text/plain": [
              "((3, 3), 2, dtype('int64'), 8, 9)"
            ]
          },
          "metadata": {},
          "execution_count": 7
        }
      ]
    },
    {
      "cell_type": "code",
      "source": [
        "\n",
        "\n"
      ],
      "metadata": {
        "id": "BHQl5SQPKYms"
      },
      "execution_count": null,
      "outputs": []
    },
    {
      "cell_type": "code",
      "source": [
        "np.zeros( (3, 4) )"
      ],
      "metadata": {
        "colab": {
          "base_uri": "https://localhost:8080/"
        },
        "id": "ZZzGhvbqK7bH",
        "outputId": "6ab68edb-a7e9-404b-d0a8-318427e08a34"
      },
      "execution_count": 9,
      "outputs": [
        {
          "output_type": "execute_result",
          "data": {
            "text/plain": [
              "array([[0., 0., 0., 0.],\n",
              "       [0., 0., 0., 0.],\n",
              "       [0., 0., 0., 0.]])"
            ]
          },
          "metadata": {},
          "execution_count": 9
        }
      ]
    },
    {
      "cell_type": "code",
      "source": [
        "\t\n",
        "\n",
        "np.ones( (3, 4), dtype=np.int32 )\n"
      ],
      "metadata": {
        "colab": {
          "base_uri": "https://localhost:8080/"
        },
        "id": "ea6YH6WcK-PF",
        "outputId": "40b4b8d1-e86b-46b7-f72c-07d139827435"
      },
      "execution_count": 10,
      "outputs": [
        {
          "output_type": "execute_result",
          "data": {
            "text/plain": [
              "array([[1, 1, 1, 1],\n",
              "       [1, 1, 1, 1],\n",
              "       [1, 1, 1, 1]], dtype=int32)"
            ]
          },
          "metadata": {},
          "execution_count": 10
        }
      ]
    },
    {
      "cell_type": "code",
      "source": [
        "\n",
        "np.eye(3)"
      ],
      "metadata": {
        "colab": {
          "base_uri": "https://localhost:8080/"
        },
        "id": "iXoAlw1kLAds",
        "outputId": "4eb0e997-93b0-4944-a798-26eafc04d9ae"
      },
      "execution_count": 11,
      "outputs": [
        {
          "output_type": "execute_result",
          "data": {
            "text/plain": [
              "array([[1., 0., 0.],\n",
              "       [0., 1., 0.],\n",
              "       [0., 0., 1.]])"
            ]
          },
          "metadata": {},
          "execution_count": 11
        }
      ]
    },
    {
      "cell_type": "code",
      "source": [
        "\n",
        "\n",
        "x = np.ones(5, dtype=np.int64)\n",
        "\n",
        "x"
      ],
      "metadata": {
        "colab": {
          "base_uri": "https://localhost:8080/"
        },
        "id": "94zc8x-KLCFU",
        "outputId": "b984de35-5b09-4063-9d08-047e8ad79872"
      },
      "execution_count": 12,
      "outputs": [
        {
          "output_type": "execute_result",
          "data": {
            "text/plain": [
              "array([1, 1, 1, 1, 1])"
            ]
          },
          "metadata": {},
          "execution_count": 12
        }
      ]
    },
    {
      "cell_type": "code",
      "source": [
        "\n",
        "\n"
      ],
      "metadata": {
        "id": "Jb72ZTNgLzBY"
      },
      "execution_count": null,
      "outputs": []
    },
    {
      "cell_type": "code",
      "source": [
        "print(np.arange(5))\n",
        "\n",
        "print(np.arange(1, 6))\n",
        "\n",
        "np.arange(1, 10, 2)"
      ],
      "metadata": {
        "colab": {
          "base_uri": "https://localhost:8080/"
        },
        "id": "lLv2xpIWL81t",
        "outputId": "20b91c95-7eb9-4b40-8c4d-c4729c09bc6a"
      },
      "execution_count": 13,
      "outputs": [
        {
          "output_type": "stream",
          "name": "stdout",
          "text": [
            "[0 1 2 3 4]\n",
            "[1 2 3 4 5]\n"
          ]
        },
        {
          "output_type": "execute_result",
          "data": {
            "text/plain": [
              "array([1, 3, 5, 7, 9])"
            ]
          },
          "metadata": {},
          "execution_count": 13
        }
      ]
    },
    {
      "cell_type": "code",
      "source": [
        "\n",
        "\n",
        "np.linspace(0, 10, 100)\n"
      ],
      "metadata": {
        "colab": {
          "base_uri": "https://localhost:8080/"
        },
        "id": "6TaXTuBGL_t1",
        "outputId": "c338e375-647a-4ab7-b996-4429c085d6b5"
      },
      "execution_count": 14,
      "outputs": [
        {
          "output_type": "execute_result",
          "data": {
            "text/plain": [
              "array([ 0.        ,  0.1010101 ,  0.2020202 ,  0.3030303 ,  0.4040404 ,\n",
              "        0.50505051,  0.60606061,  0.70707071,  0.80808081,  0.90909091,\n",
              "        1.01010101,  1.11111111,  1.21212121,  1.31313131,  1.41414141,\n",
              "        1.51515152,  1.61616162,  1.71717172,  1.81818182,  1.91919192,\n",
              "        2.02020202,  2.12121212,  2.22222222,  2.32323232,  2.42424242,\n",
              "        2.52525253,  2.62626263,  2.72727273,  2.82828283,  2.92929293,\n",
              "        3.03030303,  3.13131313,  3.23232323,  3.33333333,  3.43434343,\n",
              "        3.53535354,  3.63636364,  3.73737374,  3.83838384,  3.93939394,\n",
              "        4.04040404,  4.14141414,  4.24242424,  4.34343434,  4.44444444,\n",
              "        4.54545455,  4.64646465,  4.74747475,  4.84848485,  4.94949495,\n",
              "        5.05050505,  5.15151515,  5.25252525,  5.35353535,  5.45454545,\n",
              "        5.55555556,  5.65656566,  5.75757576,  5.85858586,  5.95959596,\n",
              "        6.06060606,  6.16161616,  6.26262626,  6.36363636,  6.46464646,\n",
              "        6.56565657,  6.66666667,  6.76767677,  6.86868687,  6.96969697,\n",
              "        7.07070707,  7.17171717,  7.27272727,  7.37373737,  7.47474747,\n",
              "        7.57575758,  7.67676768,  7.77777778,  7.87878788,  7.97979798,\n",
              "        8.08080808,  8.18181818,  8.28282828,  8.38383838,  8.48484848,\n",
              "        8.58585859,  8.68686869,  8.78787879,  8.88888889,  8.98989899,\n",
              "        9.09090909,  9.19191919,  9.29292929,  9.39393939,  9.49494949,\n",
              "        9.5959596 ,  9.6969697 ,  9.7979798 ,  9.8989899 , 10.        ])"
            ]
          },
          "metadata": {},
          "execution_count": 14
        }
      ]
    },
    {
      "cell_type": "code",
      "source": [
        "\n",
        "# array\n",
        "arr = np.array([2, 1, 5, 3, 7, 4, 6, 8])\n",
        "\n",
        "np.sort(arr)"
      ],
      "metadata": {
        "colab": {
          "base_uri": "https://localhost:8080/"
        },
        "id": "POrNvvTYMXdN",
        "outputId": "8891f8fa-73ee-4eb9-88db-5736e5d49051"
      },
      "execution_count": 15,
      "outputs": [
        {
          "output_type": "execute_result",
          "data": {
            "text/plain": [
              "array([1, 2, 3, 4, 5, 6, 7, 8])"
            ]
          },
          "metadata": {},
          "execution_count": 15
        }
      ]
    },
    {
      "cell_type": "code",
      "source": [
        "\n",
        "\n",
        "# 배열 합치기\n",
        "x = np.array([[1, 2], [3, 4]])\n",
        "\n",
        "y = np.array([[5, 6], [7, 8]])\n",
        "x,y"
      ],
      "metadata": {
        "colab": {
          "base_uri": "https://localhost:8080/"
        },
        "id": "6isG-5MxMjwy",
        "outputId": "647fd01a-298b-4c50-e37a-8c3128801eb6"
      },
      "execution_count": 16,
      "outputs": [
        {
          "output_type": "execute_result",
          "data": {
            "text/plain": [
              "(array([[1, 2],\n",
              "        [3, 4]]), array([[5, 6],\n",
              "        [7, 8]]))"
            ]
          },
          "metadata": {},
          "execution_count": 16
        }
      ]
    },
    {
      "cell_type": "code",
      "source": [
        "\n",
        "\n"
      ],
      "metadata": {
        "id": "0ZX4t0GQMumV"
      },
      "execution_count": null,
      "outputs": []
    },
    {
      "cell_type": "code",
      "source": [
        "#np.concatenate((x, y), axis=1)\n",
        "#np.concatenate((x, y), axis=1)\n",
        "\n",
        "#np.vstack((x, y))\n",
        "\n",
        "np.hstack((x, y))"
      ],
      "metadata": {
        "colab": {
          "base_uri": "https://localhost:8080/"
        },
        "id": "yqwYqL0fM3kt",
        "outputId": "26827d8b-02ac-4854-9e27-173cabfe461a"
      },
      "execution_count": 17,
      "outputs": [
        {
          "output_type": "execute_result",
          "data": {
            "text/plain": [
              "array([[1, 2, 5, 6],\n",
              "       [3, 4, 7, 8]])"
            ]
          },
          "metadata": {},
          "execution_count": 17
        }
      ]
    },
    {
      "cell_type": "code",
      "source": [
        "\n",
        "\n",
        "# reshape\n",
        "a = np.arange(12)\n",
        "\n",
        "a.shape"
      ],
      "metadata": {
        "colab": {
          "base_uri": "https://localhost:8080/"
        },
        "id": "Q8Wv35oWM6R1",
        "outputId": "3c08b46f-a0f2-4e7f-ae7a-248a2cb8f340"
      },
      "execution_count": 18,
      "outputs": [
        {
          "output_type": "execute_result",
          "data": {
            "text/plain": [
              "(12,)"
            ]
          },
          "metadata": {},
          "execution_count": 18
        }
      ]
    },
    {
      "cell_type": "code",
      "source": [
        "\n",
        "\n",
        "# a.reshape(3, 4)\n",
        "\n",
        " #a.reshape(6, -1)\n",
        "a.reshape(-1, 6)"
      ],
      "metadata": {
        "colab": {
          "base_uri": "https://localhost:8080/"
        },
        "id": "vAiLHiW8NTxJ",
        "outputId": "902aa1d7-1926-4984-bc4b-43e5221c9d7d"
      },
      "execution_count": 22,
      "outputs": [
        {
          "output_type": "execute_result",
          "data": {
            "text/plain": [
              "array([[ 0,  1,  2,  3,  4,  5],\n",
              "       [ 6,  7,  8,  9, 10, 11]])"
            ]
          },
          "metadata": {},
          "execution_count": 22
        }
      ]
    },
    {
      "cell_type": "code",
      "source": [
        "\n",
        "\n",
        "array = np.arange(30).reshape(-1, 10)\n",
        "\n",
        "array, array.shape"
      ],
      "metadata": {
        "colab": {
          "base_uri": "https://localhost:8080/"
        },
        "id": "bainGHBrNh3-",
        "outputId": "c3b82a09-1088-422a-9cb7-7e30dbfcb537"
      },
      "execution_count": 23,
      "outputs": [
        {
          "output_type": "execute_result",
          "data": {
            "text/plain": [
              "(array([[ 0,  1,  2,  3,  4,  5,  6,  7,  8,  9],\n",
              "        [10, 11, 12, 13, 14, 15, 16, 17, 18, 19],\n",
              "        [20, 21, 22, 23, 24, 25, 26, 27, 28, 29]]), (3, 10))"
            ]
          },
          "metadata": {},
          "execution_count": 23
        }
      ]
    },
    {
      "cell_type": "code",
      "source": [
        " \n",
        "\n",
        "arr1, arr2 = np.split(array, [3], axis=1)\n",
        "\n",
        "arr1,arr2"
      ],
      "metadata": {
        "colab": {
          "base_uri": "https://localhost:8080/"
        },
        "id": "ESss81PJODot",
        "outputId": "6d0e01cc-a220-4f7e-aa1a-4a2c16a6277e"
      },
      "execution_count": 24,
      "outputs": [
        {
          "output_type": "execute_result",
          "data": {
            "text/plain": [
              "(array([[ 0,  1,  2],\n",
              "        [10, 11, 12],\n",
              "        [20, 21, 22]]), array([[ 3,  4,  5,  6,  7,  8,  9],\n",
              "        [13, 14, 15, 16, 17, 18, 19],\n",
              "        [23, 24, 25, 26, 27, 28, 29]]))"
            ]
          },
          "metadata": {},
          "execution_count": 24
        }
      ]
    },
    {
      "cell_type": "code",
      "source": [
        "\n",
        "\n",
        "# 차원 확장\n",
        "a = np.array([1, 2, 3, 4, 5, 6])\n",
        "\n",
        "a.shape"
      ],
      "metadata": {
        "colab": {
          "base_uri": "https://localhost:8080/"
        },
        "id": "oK58nMJ-OQYV",
        "outputId": "4ec5e002-5e1f-45fc-dccb-e25247cf0861"
      },
      "execution_count": 25,
      "outputs": [
        {
          "output_type": "execute_result",
          "data": {
            "text/plain": [
              "(6,)"
            ]
          },
          "metadata": {},
          "execution_count": 25
        }
      ]
    },
    {
      "cell_type": "code",
      "source": [
        "\n",
        "\n",
        "a1 = a[np.newaxis, :]\n",
        "\n",
        "a1, a1.shape"
      ],
      "metadata": {
        "colab": {
          "base_uri": "https://localhost:8080/"
        },
        "id": "cWSN5vDWOaFG",
        "outputId": "f27c16e0-f99f-4637-dea6-4d2b4053eb70"
      },
      "execution_count": 26,
      "outputs": [
        {
          "output_type": "execute_result",
          "data": {
            "text/plain": [
              "(array([[1, 2, 3, 4, 5, 6]]), (1, 6))"
            ]
          },
          "metadata": {},
          "execution_count": 26
        }
      ]
    },
    {
      "cell_type": "code",
      "source": [
        "\n",
        "\n",
        "a2 = a[:, np.newaxis]\n",
        "\n",
        "a2.shape\n"
      ],
      "metadata": {
        "colab": {
          "base_uri": "https://localhost:8080/"
        },
        "id": "u0SVqI8tOjO1",
        "outputId": "36c4c0c2-2b69-490c-a975-d7a12e81afac"
      },
      "execution_count": 27,
      "outputs": [
        {
          "output_type": "execute_result",
          "data": {
            "text/plain": [
              "(6, 1)"
            ]
          },
          "metadata": {},
          "execution_count": 27
        }
      ]
    },
    {
      "cell_type": "markdown",
      "source": [
        "###numpy-indexing&slicing"
      ],
      "metadata": {
        "id": "DJjm8hk0O0ft"
      }
    },
    {
      "cell_type": "code",
      "source": [
        "\n",
        "# indexing & slicing\n",
        "ages = np.array([18, 19, 25, 30, 28])\n",
        "\n",
        "ages[1:3], ages[:2] "
      ],
      "metadata": {
        "colab": {
          "base_uri": "https://localhost:8080/"
        },
        "id": "cRjNTdQZOspG",
        "outputId": "ba043384-f71e-4db6-cb5a-468d268dd826"
      },
      "execution_count": 28,
      "outputs": [
        {
          "output_type": "execute_result",
          "data": {
            "text/plain": [
              "(array([19, 25]), array([18, 19]))"
            ]
          },
          "metadata": {},
          "execution_count": 28
        }
      ]
    },
    {
      "cell_type": "code",
      "source": [
        "y = ages > 20\n",
        "\n",
        "print(y)\n",
        "#조건을 만족하는 데이터\n",
        "ages[ ages > 20 ]"
      ],
      "metadata": {
        "colab": {
          "base_uri": "https://localhost:8080/"
        },
        "id": "beOrhmk4PRkd",
        "outputId": "b5391036-8901-419a-8fa7-3708f2834279"
      },
      "execution_count": 29,
      "outputs": [
        {
          "output_type": "stream",
          "name": "stdout",
          "text": [
            "[False False  True  True  True]\n"
          ]
        },
        {
          "output_type": "execute_result",
          "data": {
            "text/plain": [
              "array([25, 30, 28])"
            ]
          },
          "metadata": {},
          "execution_count": 29
        }
      ]
    },
    {
      "cell_type": "code",
      "source": [
        "\n",
        "\n"
      ],
      "metadata": {
        "id": "8MXf18w1PVul"
      },
      "execution_count": null,
      "outputs": []
    },
    {
      "cell_type": "code",
      "source": [
        "# 인덱싱\n",
        "a = np.array([[1, 2, 3], [4, 5, 6], [7, 8, 9]])\n",
        "\n",
        "print(a[0, 2])\n",
        "\n",
        "a[0, 0] = 12\n",
        "\n",
        "a"
      ],
      "metadata": {
        "colab": {
          "base_uri": "https://localhost:8080/"
        },
        "id": "hlyNN5FTPs0u",
        "outputId": "d586cbcc-5826-4605-98e3-f17a6605387b"
      },
      "execution_count": 30,
      "outputs": [
        {
          "output_type": "stream",
          "name": "stdout",
          "text": [
            "3\n"
          ]
        },
        {
          "output_type": "execute_result",
          "data": {
            "text/plain": [
              "array([[12,  2,  3],\n",
              "       [ 4,  5,  6],\n",
              "       [ 7,  8,  9]])"
            ]
          },
          "metadata": {},
          "execution_count": 30
        }
      ]
    },
    {
      "cell_type": "code",
      "source": [
        "\n",
        "\n",
        "# 슬라이싱\n",
        "a = np.array([[1, 2, 3], [4, 5, 6], [7, 8, 9]])\n",
        "\n",
        "a[0:2, 1:3]\n"
      ],
      "metadata": {
        "colab": {
          "base_uri": "https://localhost:8080/"
        },
        "id": "NNjuq-EgPvCe",
        "outputId": "c1912720-3b10-4030-82e5-3415da331279"
      },
      "execution_count": 31,
      "outputs": [
        {
          "output_type": "execute_result",
          "data": {
            "text/plain": [
              "array([[2, 3],\n",
              "       [5, 6]])"
            ]
          },
          "metadata": {},
          "execution_count": 31
        }
      ]
    },
    {
      "cell_type": "markdown",
      "source": [
        "###numpy연산\n",
        "- elementwise operation\n",
        "-vectorwise operation"
      ],
      "metadata": {
        "id": "zHEnRWceQBYl"
      }
    },
    {
      "cell_type": "code",
      "source": [
        "\n",
        "# operation of arrays\n",
        "arr1 = np.array([[1, 2], [3, 4], [5, 6]])\n",
        "\n",
        "arr2 = np.array([[1, 1], [1, 1], [1, 1]])\n",
        "\n",
        "result = arr1 + arr2\n",
        "\n",
        "result"
      ],
      "metadata": {
        "colab": {
          "base_uri": "https://localhost:8080/"
        },
        "id": "AalxXGTqP37W",
        "outputId": "8d013c25-2cd1-4388-af89-31dc98dd1fe2"
      },
      "execution_count": 32,
      "outputs": [
        {
          "output_type": "execute_result",
          "data": {
            "text/plain": [
              "array([[2, 3],\n",
              "       [4, 5],\n",
              "       [6, 7]])"
            ]
          },
          "metadata": {},
          "execution_count": 32
        }
      ]
    },
    {
      "cell_type": "markdown",
      "source": [
        "###브로드케스팅(broadcasting)"
      ],
      "metadata": {
        "id": "rA3yN55uQlU1"
      }
    },
    {
      "cell_type": "code",
      "source": [
        "\n",
        "\n",
        "miles = np.array([1, 2, 3])\n",
        "\n",
        "result = miles * 1.6\n",
        "\n",
        "result"
      ],
      "metadata": {
        "colab": {
          "base_uri": "https://localhost:8080/"
        },
        "id": "xn5ytpz5QIOO",
        "outputId": "9be8336e-6495-4bea-bac3-85e3400c40b2"
      },
      "execution_count": 33,
      "outputs": [
        {
          "output_type": "execute_result",
          "data": {
            "text/plain": [
              "array([1.6, 3.2, 4.8])"
            ]
          },
          "metadata": {},
          "execution_count": 33
        }
      ]
    },
    {
      "cell_type": "code",
      "source": [
        "#elementwise multiplication\n",
        "\n",
        "arr1 = np.array([[1, 2], [3, 4], [5, 6]])\n",
        "\n",
        "arr2 = np.array([[2, 2], [2, 2], [2, 2]])\n",
        "\n",
        "result = arr1 * arr2\n",
        "\n",
        "result"
      ],
      "metadata": {
        "colab": {
          "base_uri": "https://localhost:8080/"
        },
        "id": "Tu6D2Y23Qqvl",
        "outputId": "a2f23de4-64d4-4566-9e23-8d078f2693c9"
      },
      "execution_count": 34,
      "outputs": [
        {
          "output_type": "execute_result",
          "data": {
            "text/plain": [
              "array([[ 2,  4],\n",
              "       [ 6,  8],\n",
              "       [10, 12]])"
            ]
          },
          "metadata": {},
          "execution_count": 34
        }
      ]
    },
    {
      "cell_type": "code",
      "source": [
        "#vectorwise multiplication\n",
        "\n",
        "arr1 = np.array([[1, 2, 3], [4, 5, 6], [7, 8, 9]])\n",
        "\n",
        "arr2 = np.array([[2, 2], [2, 2], [2, 2]])\n",
        "\n",
        "result = arr1 @ arr2\n",
        "\n",
        "result\n"
      ],
      "metadata": {
        "colab": {
          "base_uri": "https://localhost:8080/"
        },
        "id": "N4ExN5vGQ44t",
        "outputId": "2b4e1828-f13b-4580-d463-1cfc44fa61b0"
      },
      "execution_count": 38,
      "outputs": [
        {
          "output_type": "execute_result",
          "data": {
            "text/plain": [
              "array([[12, 12],\n",
              "       [30, 30],\n",
              "       [48, 48]])"
            ]
          },
          "metadata": {},
          "execution_count": 38
        }
      ]
    },
    {
      "cell_type": "code",
      "source": [
        "\n",
        "\n",
        "A = np.array([0, 1, 2, 3])\n",
        "\n",
        "10 * np.sin(A)"
      ],
      "metadata": {
        "colab": {
          "base_uri": "https://localhost:8080/"
        },
        "id": "UIgDXLxlRBVF",
        "outputId": "7e22b803-100b-48ac-af11-8ae4d9cbb477"
      },
      "execution_count": 35,
      "outputs": [
        {
          "output_type": "execute_result",
          "data": {
            "text/plain": [
              "array([0.        , 8.41470985, 9.09297427, 1.41120008])"
            ]
          },
          "metadata": {},
          "execution_count": 35
        }
      ]
    },
    {
      "cell_type": "code",
      "source": [
        "\n",
        "\n",
        "a = np.array([[1, 2, 3], [4, 5, 6], [7, 8, 9]])\n",
        "\n",
        "a.sum(),a.min(),a.max()"
      ],
      "metadata": {
        "colab": {
          "base_uri": "https://localhost:8080/"
        },
        "id": "ox-BqVUfRV21",
        "outputId": "3e610656-fcf6-4691-c942-d0ada9e55515"
      },
      "execution_count": 36,
      "outputs": [
        {
          "output_type": "execute_result",
          "data": {
            "text/plain": [
              "(45, 1, 9)"
            ]
          },
          "metadata": {},
          "execution_count": 36
        }
      ]
    },
    {
      "cell_type": "code",
      "source": [
        "a.argmin(),a.argmax()"
      ],
      "metadata": {
        "colab": {
          "base_uri": "https://localhost:8080/"
        },
        "id": "vtNQVGD7Rmrl",
        "outputId": "4e05243a-3ec8-43f8-bbf1-09007dfe34ac"
      },
      "execution_count": 37,
      "outputs": [
        {
          "output_type": "execute_result",
          "data": {
            "text/plain": [
              "(0, 8)"
            ]
          },
          "metadata": {},
          "execution_count": 37
        }
      ]
    },
    {
      "cell_type": "code",
      "source": [
        "\n",
        "\n",
        "scores = np.array([[99, 93, 60], [98, 82, 93],\n",
        "               [93, 65, 81], [78, 82, 81]])    \n",
        "scores.mean()\n",
        "scores.mean(axis=1)\n",
        "scores.mean(axis=0)"
      ],
      "metadata": {
        "colab": {
          "base_uri": "https://localhost:8080/"
        },
        "id": "xU0uRL7dRcGd",
        "outputId": "4ec706f9-82e0-4a2a-dbb5-f31a3e49a79e"
      },
      "execution_count": 40,
      "outputs": [
        {
          "output_type": "execute_result",
          "data": {
            "text/plain": [
              "array([92.  , 80.5 , 78.75])"
            ]
          },
          "metadata": {},
          "execution_count": 40
        }
      ]
    },
    {
      "cell_type": "markdown",
      "source": [
        "##무작위수 배열"
      ],
      "metadata": {
        "id": "f6GGY3RtSscG"
      }
    },
    {
      "cell_type": "code",
      "source": [
        "# random numbers\n",
        "np.random.seed(100)\n",
        "\n",
        "# np.random.rand(5),np.random.rand(5)\n",
        "\n",
        "\n",
        "# np.random.rand(5, 3)\n",
        "\n",
        "# np.random.randn(5)\n",
        "\n",
        "np.random.randn(5, 4)\n"
      ],
      "metadata": {
        "colab": {
          "base_uri": "https://localhost:8080/"
        },
        "id": "ClHnkOqISWL-",
        "outputId": "5774bbfd-b145-4b17-d884-ad8b78c2a528"
      },
      "execution_count": 47,
      "outputs": [
        {
          "output_type": "execute_result",
          "data": {
            "text/plain": [
              "array([[-1.74976547,  0.3426804 ,  1.1530358 , -0.25243604],\n",
              "       [ 0.98132079,  0.51421884,  0.22117967, -1.07004333],\n",
              "       [-0.18949583,  0.25500144, -0.45802699,  0.43516349],\n",
              "       [-0.58359505,  0.81684707,  0.67272081, -0.10441114],\n",
              "       [-0.53128038,  1.02973269, -0.43813562, -1.11831825]])"
            ]
          },
          "metadata": {},
          "execution_count": 47
        }
      ]
    },
    {
      "cell_type": "markdown",
      "source": [
        "###[DIY]\n",
        "- 컬러 이미지 100장을 무작위로 생성\n",
        "- 이미지 크기는 28X28"
      ],
      "metadata": {
        "id": "6h9z0Wx7ThNe"
      }
    },
    {
      "cell_type": "code",
      "source": [
        "image100 = np.random.randn(100, 28, 28, 3)\n",
        "image100.shape"
      ],
      "metadata": {
        "colab": {
          "base_uri": "https://localhost:8080/"
        },
        "id": "wT1_ClUhT0je",
        "outputId": "68ba5169-2a15-4887-b9fd-fe6a18a22fe1"
      },
      "execution_count": 48,
      "outputs": [
        {
          "output_type": "execute_result",
          "data": {
            "text/plain": [
              "(100, 28, 28, 3)"
            ]
          },
          "metadata": {},
          "execution_count": 48
        }
      ]
    },
    {
      "cell_type": "code",
      "source": [
        "m, sigma = 10, 2\n",
        "\n",
        "m + sigma*np.random.randn(5)"
      ],
      "metadata": {
        "colab": {
          "base_uri": "https://localhost:8080/"
        },
        "id": "rw5WivHAUqHO",
        "outputId": "22982347-2ec4-4f29-a9af-081052577e2f"
      },
      "execution_count": 49,
      "outputs": [
        {
          "output_type": "execute_result",
          "data": {
            "text/plain": [
              "array([ 8.12600727, 10.07239857,  8.639449  ,  8.44707082,  9.82908791])"
            ]
          },
          "metadata": {},
          "execution_count": 49
        }
      ]
    },
    {
      "cell_type": "code",
      "source": [
        "\n",
        "\n",
        "mu, sigma = 0, 0.1 \t# 평균과 표준 편차\n",
        "\n",
        "np.random.normal(mu, sigma, 5)\n"
      ],
      "metadata": {
        "colab": {
          "base_uri": "https://localhost:8080/"
        },
        "id": "q-0LOzhlVBV1",
        "outputId": "28547fca-8f91-42d4-9b15-036ac75b8297"
      },
      "execution_count": 50,
      "outputs": [
        {
          "output_type": "execute_result",
          "data": {
            "text/plain": [
              "array([ 0.00487541,  0.03221054, -0.07611538,  0.00467831, -0.03446541])"
            ]
          },
          "metadata": {},
          "execution_count": 50
        }
      ]
    },
    {
      "cell_type": "markdown",
      "source": [
        "###np.unique()"
      ],
      "metadata": {
        "id": "nf6CwfUNVKNV"
      }
    },
    {
      "cell_type": "code",
      "source": [
        "\n",
        "# unique()\n",
        "a = np.array([11, 11, 12, 13, 14, 15, 16, 17, 12, 13, 11, 14, 18, 19, 20])\n",
        "#a.size\n",
        "unique_values = np.unique(a)\n",
        "unique_values"
      ],
      "metadata": {
        "colab": {
          "base_uri": "https://localhost:8080/"
        },
        "id": "lRT86tgoU2Nm",
        "outputId": "374d4219-6ea9-4ef5-bc3e-4339efe588aa"
      },
      "execution_count": 53,
      "outputs": [
        {
          "output_type": "execute_result",
          "data": {
            "text/plain": [
              "array([11, 12, 13, 14, 15, 16, 17, 18, 19, 20])"
            ]
          },
          "metadata": {},
          "execution_count": 53
        }
      ]
    },
    {
      "cell_type": "code",
      "source": [
        "uv, ui = np.unique(a, return_index=True)\n",
        "uv,ui"
      ],
      "metadata": {
        "colab": {
          "base_uri": "https://localhost:8080/"
        },
        "id": "cUkRNRuzVlJW",
        "outputId": "c9307d6b-8cf5-46ff-fd86-f761820d12b0"
      },
      "execution_count": 60,
      "outputs": [
        {
          "output_type": "execute_result",
          "data": {
            "text/plain": [
              "(array([11, 12, 13, 14, 15, 16, 17, 18, 19, 20]),\n",
              " array([ 0,  2,  3,  4,  5,  6,  7, 12, 13, 14]))"
            ]
          },
          "metadata": {},
          "execution_count": 60
        }
      ]
    },
    {
      "cell_type": "code",
      "source": [
        "uv, uc = np.unique(a, return_counts=True)\n",
        "uv,uc"
      ],
      "metadata": {
        "colab": {
          "base_uri": "https://localhost:8080/"
        },
        "id": "LaF6m2qKWMHF",
        "outputId": "469217f7-7849-4c6d-e264-d5c29fbdbac9"
      },
      "execution_count": 59,
      "outputs": [
        {
          "output_type": "execute_result",
          "data": {
            "text/plain": [
              "(array([11, 12, 13, 14, 15, 16, 17, 18, 19, 20]),\n",
              " array([3, 2, 2, 2, 1, 1, 1, 1, 1, 1]))"
            ]
          },
          "metadata": {},
          "execution_count": 59
        }
      ]
    },
    {
      "cell_type": "code",
      "source": [
        "\n",
        "\n",
        "# Transpose of an array\n",
        "arr = np.array([[1, 2], [3, 4], [5, 6]])\n",
        "print(arr.T)\n",
        "\n",
        "x = np.array([[1, 2, 3, 4], [5, 6, 7, 8], [9, 10, 11, 12]])\n",
        "\n",
        "\n",
        "x.flatten()\n"
      ],
      "metadata": {
        "id": "qWftE1TOVIk-"
      },
      "execution_count": null,
      "outputs": []
    },
    {
      "cell_type": "markdown",
      "source": [
        "pandas"
      ],
      "metadata": {
        "id": "9LzO5JSjUunm"
      }
    },
    {
      "cell_type": "code",
      "source": [
        "\n",
        "########################\n",
        "# Pandas\n",
        "import numpy as np\n",
        "import pandas as pd\n",
        "\n",
        "x = pd.read_csv('countries.csv', header=0).values\n",
        "print(x)\n",
        "\n",
        "########################\n",
        "# matplotlib\n",
        "import matplotlib.pyplot as plt\n",
        "# %matplotlib inline\n",
        "\n",
        "X = [ \"Mon\", \"Tue\", \"Wed\", \"Thur\", \"Fri\",  \"Sat\", \"Sun\" ] \n",
        "Y1 = [15.6, 14.2, 16.3, 18.2, 17.1, 20.2, 22.4]\n",
        "Y2 = [20.1, 23.1, 23.8, 25.9, 23.4, 25.1, 26.3]\n",
        "\n",
        "plt.plot(X, Y1, label=\"Seoul\")\t\t# 분리시켜서 그려도 됨\n",
        "plt.plot(X, Y2, label=\"Busan\")\t\t# 분리시켜서 그려도 됨\n",
        "plt.xlabel(\"day\")\n",
        "plt.ylabel(\"temperature\")\n",
        "plt.legend(loc=\"upper left\")\n",
        "plt.title(\"Temperatures of Cities\")\n",
        "plt.show()\n",
        "\n",
        "\n",
        "import matplotlib.pyplot as plt\n",
        "# %matplotlib inline\n",
        "\n",
        "X = [ \"Mon\", \"Tue\", \"Wed\", \"Thur\", \"Fri\",  \"Sat\", \"Sun\" ] \n",
        "plt.plot(X, [15.6, 14.2, 16.3, 18.2, 17.1, 20.2, 22.4], \"sm\")\n",
        "plt.show()\n",
        "\n",
        "\n",
        "import matplotlib.pyplot as plt\n",
        "# %matplotlib inline\n",
        "\n",
        "X = [ \"Mon\", \"Tue\", \"Wed\", \"Thur\", \"Fri\",  \"Sat\", \"Sun\" ] \n",
        "Y = [15.6, 14.2, 16.3, 18.2, 17.1, 20.2, 22.4]\n",
        "plt.bar(X, Y)\n",
        "plt.show()\n",
        "\n",
        "\n",
        "\n",
        "import matplotlib.pyplot as plt\n",
        "import numpy as np\n",
        "\n",
        "numbers = np.random.normal(size=10000)\n",
        "\n",
        "plt.hist(numbers)\n",
        "plt.xlabel(\"value\")\n",
        "plt.ylabel(\"freq\")\n",
        "plt.show()\n",
        "\n",
        "\n",
        "import matplotlib.pyplot as plt\n",
        "import numpy as np\n",
        "X = np.arange(0, 10)\n",
        "Y = X**2\n",
        "plt.plot(X, Y)\n",
        "plt.show()\n",
        "\n",
        "\n",
        "X = np.arange(0, 10)\n",
        "Y1 = np.ones(10)\n",
        "Y2 = X \n",
        "Y3 = X**2 \n",
        "plt.plot(X, Y1, X, Y2, X, Y3)\n",
        "plt.show()\n",
        "\n",
        "\n",
        "import matplotlib.pyplot as plt \n",
        "import numpy as np \n",
        "  \n",
        "X = np.linspace(-10, 10, 101) \n",
        "Y = 1/(1 + np.exp(-X)) \n",
        "  \n",
        "plt.plot(X, Y) \n",
        "plt.xlabel(\"x\") \n",
        "plt.ylabel(\"Sigmoid(X)\") \n",
        "plt.show() \n",
        "\n",
        "\n",
        "import matplotlib.pyplot as plt\n",
        "import numpy as np\n",
        "\n",
        "def sigmoid(x):\n",
        "    s=1/(1+np.exp(-x))\n",
        "    ds=s*(1-s)  \t\t# 시그모이드 함수 1차 미분 함수\n",
        "    return s,ds\n",
        "\n",
        "X = np.linspace(-10, 10, 101) \n",
        "Y1, Y2 = sigmoid(X)\n",
        "  \n",
        "plt.plot(X, Y1, X, Y2) \n",
        "plt.xlabel(\"x\") \n",
        "plt.ylabel(\"Sigmoid(X), Sigmoid'(X)\") \n",
        "plt.show() \n",
        "\n",
        "\n",
        "\n",
        "\n",
        "\n"
      ],
      "metadata": {
        "id": "tcV1rTPGUsfe"
      },
      "execution_count": null,
      "outputs": []
    }
  ]
}